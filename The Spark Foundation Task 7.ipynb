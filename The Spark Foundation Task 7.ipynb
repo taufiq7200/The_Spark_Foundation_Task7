{
 "cells": [
  {
   "cell_type": "markdown",
   "metadata": {},
   "source": [
    "# The Spark Foundation\n",
    "## GRIPNOV20\n",
    "\n",
    "### TASK 7"
   ]
  },
  {
   "cell_type": "code",
   "execution_count": 1,
   "metadata": {},
   "outputs": [],
   "source": [
    "import numpy as np\n",
    "import pandas as pd\n",
    "import pandas_datareader as pdr\n"
   ]
  },
  {
   "cell_type": "code",
   "execution_count": 2,
   "metadata": {},
   "outputs": [],
   "source": [
    "data = pdr.get_data_yahoo('GLD' , '2020-01-01')"
   ]
  },
  {
   "cell_type": "code",
   "execution_count": 3,
   "metadata": {},
   "outputs": [
    {
     "data": {
      "text/html": [
       "<div>\n",
       "<style scoped>\n",
       "    .dataframe tbody tr th:only-of-type {\n",
       "        vertical-align: middle;\n",
       "    }\n",
       "\n",
       "    .dataframe tbody tr th {\n",
       "        vertical-align: top;\n",
       "    }\n",
       "\n",
       "    .dataframe thead th {\n",
       "        text-align: right;\n",
       "    }\n",
       "</style>\n",
       "<table border=\"1\" class=\"dataframe\">\n",
       "  <thead>\n",
       "    <tr style=\"text-align: right;\">\n",
       "      <th></th>\n",
       "      <th>High</th>\n",
       "      <th>Low</th>\n",
       "      <th>Open</th>\n",
       "      <th>Close</th>\n",
       "      <th>Volume</th>\n",
       "      <th>Adj Close</th>\n",
       "    </tr>\n",
       "    <tr>\n",
       "      <th>Date</th>\n",
       "      <th></th>\n",
       "      <th></th>\n",
       "      <th></th>\n",
       "      <th></th>\n",
       "      <th></th>\n",
       "      <th></th>\n",
       "    </tr>\n",
       "  </thead>\n",
       "  <tbody>\n",
       "    <tr>\n",
       "      <th>2019-12-31</th>\n",
       "      <td>143.600006</td>\n",
       "      <td>142.800003</td>\n",
       "      <td>143.309998</td>\n",
       "      <td>142.899994</td>\n",
       "      <td>5313500</td>\n",
       "      <td>142.899994</td>\n",
       "    </tr>\n",
       "    <tr>\n",
       "      <th>2020-01-02</th>\n",
       "      <td>144.210007</td>\n",
       "      <td>143.399994</td>\n",
       "      <td>143.860001</td>\n",
       "      <td>143.949997</td>\n",
       "      <td>7733800</td>\n",
       "      <td>143.949997</td>\n",
       "    </tr>\n",
       "    <tr>\n",
       "      <th>2020-01-03</th>\n",
       "      <td>146.320007</td>\n",
       "      <td>145.399994</td>\n",
       "      <td>145.750000</td>\n",
       "      <td>145.860001</td>\n",
       "      <td>12272800</td>\n",
       "      <td>145.860001</td>\n",
       "    </tr>\n",
       "    <tr>\n",
       "      <th>2020-01-06</th>\n",
       "      <td>148.479996</td>\n",
       "      <td>146.949997</td>\n",
       "      <td>148.440002</td>\n",
       "      <td>147.389999</td>\n",
       "      <td>14403300</td>\n",
       "      <td>147.389999</td>\n",
       "    </tr>\n",
       "    <tr>\n",
       "      <th>2020-01-07</th>\n",
       "      <td>148.139999</td>\n",
       "      <td>147.429993</td>\n",
       "      <td>147.570007</td>\n",
       "      <td>147.970001</td>\n",
       "      <td>7978500</td>\n",
       "      <td>147.970001</td>\n",
       "    </tr>\n",
       "  </tbody>\n",
       "</table>\n",
       "</div>"
      ],
      "text/plain": [
       "                  High         Low        Open       Close    Volume  \\\n",
       "Date                                                                   \n",
       "2019-12-31  143.600006  142.800003  143.309998  142.899994   5313500   \n",
       "2020-01-02  144.210007  143.399994  143.860001  143.949997   7733800   \n",
       "2020-01-03  146.320007  145.399994  145.750000  145.860001  12272800   \n",
       "2020-01-06  148.479996  146.949997  148.440002  147.389999  14403300   \n",
       "2020-01-07  148.139999  147.429993  147.570007  147.970001   7978500   \n",
       "\n",
       "             Adj Close  \n",
       "Date                    \n",
       "2019-12-31  142.899994  \n",
       "2020-01-02  143.949997  \n",
       "2020-01-03  145.860001  \n",
       "2020-01-06  147.389999  \n",
       "2020-01-07  147.970001  "
      ]
     },
     "execution_count": 3,
     "metadata": {},
     "output_type": "execute_result"
    }
   ],
   "source": [
    "data.head()"
   ]
  },
  {
   "cell_type": "code",
   "execution_count": 4,
   "metadata": {},
   "outputs": [
    {
     "data": {
      "text/html": [
       "<div>\n",
       "<style scoped>\n",
       "    .dataframe tbody tr th:only-of-type {\n",
       "        vertical-align: middle;\n",
       "    }\n",
       "\n",
       "    .dataframe tbody tr th {\n",
       "        vertical-align: top;\n",
       "    }\n",
       "\n",
       "    .dataframe thead th {\n",
       "        text-align: right;\n",
       "    }\n",
       "</style>\n",
       "<table border=\"1\" class=\"dataframe\">\n",
       "  <thead>\n",
       "    <tr style=\"text-align: right;\">\n",
       "      <th></th>\n",
       "      <th>High</th>\n",
       "      <th>Low</th>\n",
       "      <th>Open</th>\n",
       "      <th>Close</th>\n",
       "      <th>Volume</th>\n",
       "      <th>Adj Close</th>\n",
       "    </tr>\n",
       "    <tr>\n",
       "      <th>Date</th>\n",
       "      <th></th>\n",
       "      <th></th>\n",
       "      <th></th>\n",
       "      <th></th>\n",
       "      <th></th>\n",
       "      <th></th>\n",
       "    </tr>\n",
       "  </thead>\n",
       "  <tbody>\n",
       "    <tr>\n",
       "      <th>2020-11-11</th>\n",
       "      <td>175.279999</td>\n",
       "      <td>174.440002</td>\n",
       "      <td>174.699997</td>\n",
       "      <td>174.899994</td>\n",
       "      <td>9008500</td>\n",
       "      <td>174.899994</td>\n",
       "    </tr>\n",
       "    <tr>\n",
       "      <th>2020-11-12</th>\n",
       "      <td>176.770004</td>\n",
       "      <td>175.839996</td>\n",
       "      <td>176.039993</td>\n",
       "      <td>175.960007</td>\n",
       "      <td>7167900</td>\n",
       "      <td>175.960007</td>\n",
       "    </tr>\n",
       "    <tr>\n",
       "      <th>2020-11-13</th>\n",
       "      <td>177.800003</td>\n",
       "      <td>176.839996</td>\n",
       "      <td>177.649994</td>\n",
       "      <td>177.160004</td>\n",
       "      <td>6469800</td>\n",
       "      <td>177.160004</td>\n",
       "    </tr>\n",
       "    <tr>\n",
       "      <th>2020-11-16</th>\n",
       "      <td>177.910004</td>\n",
       "      <td>176.869995</td>\n",
       "      <td>177.229996</td>\n",
       "      <td>177.149994</td>\n",
       "      <td>8358500</td>\n",
       "      <td>177.149994</td>\n",
       "    </tr>\n",
       "    <tr>\n",
       "      <th>2020-11-17</th>\n",
       "      <td>177.440002</td>\n",
       "      <td>176.089996</td>\n",
       "      <td>177.250000</td>\n",
       "      <td>176.500000</td>\n",
       "      <td>8189300</td>\n",
       "      <td>176.500000</td>\n",
       "    </tr>\n",
       "  </tbody>\n",
       "</table>\n",
       "</div>"
      ],
      "text/plain": [
       "                  High         Low        Open       Close   Volume  \\\n",
       "Date                                                                  \n",
       "2020-11-11  175.279999  174.440002  174.699997  174.899994  9008500   \n",
       "2020-11-12  176.770004  175.839996  176.039993  175.960007  7167900   \n",
       "2020-11-13  177.800003  176.839996  177.649994  177.160004  6469800   \n",
       "2020-11-16  177.910004  176.869995  177.229996  177.149994  8358500   \n",
       "2020-11-17  177.440002  176.089996  177.250000  176.500000  8189300   \n",
       "\n",
       "             Adj Close  \n",
       "Date                    \n",
       "2020-11-11  174.899994  \n",
       "2020-11-12  175.960007  \n",
       "2020-11-13  177.160004  \n",
       "2020-11-16  177.149994  \n",
       "2020-11-17  176.500000  "
      ]
     },
     "execution_count": 4,
     "metadata": {},
     "output_type": "execute_result"
    }
   ],
   "source": [
    "data.tail()"
   ]
  },
  {
   "cell_type": "code",
   "execution_count": 5,
   "metadata": {},
   "outputs": [],
   "source": [
    "data_close = pd.DataFrame(data.Close)"
   ]
  },
  {
   "cell_type": "code",
   "execution_count": 6,
   "metadata": {},
   "outputs": [],
   "source": [
    "data_close['MA_9'] = data_close.Close.rolling(9).mean().shift()\n",
    "data_close['MA_21'] = data_close.Close.rolling(21).mean().shift()"
   ]
  },
  {
   "cell_type": "code",
   "execution_count": 7,
   "metadata": {},
   "outputs": [
    {
     "data": {
      "text/plain": [
       "Date\n",
       "2019-12-31           NaN\n",
       "2020-01-02           NaN\n",
       "2020-01-03           NaN\n",
       "2020-01-06           NaN\n",
       "2020-01-07           NaN\n",
       "2020-01-08           NaN\n",
       "2020-01-09           NaN\n",
       "2020-01-10           NaN\n",
       "2020-01-13           NaN\n",
       "2020-01-14    145.965556\n",
       "2020-01-15    146.275557\n",
       "2020-01-16    146.563334\n",
       "Name: MA_9, dtype: float64"
      ]
     },
     "execution_count": 7,
     "metadata": {},
     "output_type": "execute_result"
    }
   ],
   "source": [
    "data_close['MA_9'].head(12)"
   ]
  },
  {
   "cell_type": "code",
   "execution_count": 8,
   "metadata": {},
   "outputs": [
    {
     "data": {
      "text/plain": [
       "Date\n",
       "2019-12-31           NaN\n",
       "2020-01-02           NaN\n",
       "2020-01-03           NaN\n",
       "2020-01-06           NaN\n",
       "2020-01-07           NaN\n",
       "2020-01-08           NaN\n",
       "2020-01-09           NaN\n",
       "2020-01-10           NaN\n",
       "2020-01-13           NaN\n",
       "2020-01-14           NaN\n",
       "2020-01-15           NaN\n",
       "2020-01-16           NaN\n",
       "2020-01-17           NaN\n",
       "2020-01-21           NaN\n",
       "2020-01-22           NaN\n",
       "2020-01-23           NaN\n",
       "2020-01-24           NaN\n",
       "2020-01-27           NaN\n",
       "2020-01-28           NaN\n",
       "2020-01-29           NaN\n",
       "2020-01-30           NaN\n",
       "2020-01-31    146.715238\n",
       "2020-02-03    147.021429\n",
       "2020-02-04    147.231429\n",
       "Name: MA_21, dtype: float64"
      ]
     },
     "execution_count": 8,
     "metadata": {},
     "output_type": "execute_result"
    }
   ],
   "source": [
    "data_close['MA_21'].head(24)"
   ]
  },
  {
   "cell_type": "code",
   "execution_count": 9,
   "metadata": {},
   "outputs": [],
   "source": [
    "import matplotlib.pyplot as plt\n",
    "%matplotlib inline"
   ]
  },
  {
   "cell_type": "code",
   "execution_count": 10,
   "metadata": {},
   "outputs": [
    {
     "data": {
      "text/plain": [
       "<matplotlib.legend.Legend at 0x21caa726d90>"
      ]
     },
     "execution_count": 10,
     "metadata": {},
     "output_type": "execute_result"
    },
    {
     "data": {
      "image/png": "[encoded data removed]",
      "text/plain": [
       "<Figure size 1152x720 with 1 Axes>"
      ]
     },
     "metadata": {
      "needs_background": "light"
     },
     "output_type": "display_data"
    }
   ],
   "source": [
    "plt.figure(figsize=(16,10))\n",
    "plt.grid(True)\n",
    "plt.plot(data_close['Close'],label = 'GLD')\n",
    "plt.plot(data_close['MA_9'],label = 'MA 9 DAY')\n",
    "plt.plot(data_close['MA_21'],label = 'MA 21 DAY')\n",
    "plt.legend(loc=2)"
   ]
  },
  {
   "cell_type": "code",
   "execution_count": 11,
   "metadata": {},
   "outputs": [],
   "source": [
    "data_close['change'] = np.log(data_close['Close']/data_close['Close'].shift())"
   ]
  },
  {
   "cell_type": "code",
   "execution_count": 12,
   "metadata": {},
   "outputs": [
    {
     "data": {
      "text/plain": [
       "[<matplotlib.lines.Line2D at 0x21caa7d0880>]"
      ]
     },
     "execution_count": 12,
     "metadata": {},
     "output_type": "execute_result"
    },
    {
     "data": {
      "image/png": "[encoded data removed]",
      "text/plain": [
       "<Figure size 432x288 with 1 Axes>"
      ]
     },
     "metadata": {
      "needs_background": "light"
     },
     "output_type": "display_data"
    }
   ],
   "source": [
    "plt.plot(data_close.change)"
   ]
  },
  {
   "cell_type": "code",
   "execution_count": 13,
   "metadata": {},
   "outputs": [],
   "source": [
    "data_close['Volatility']  = data_close.change.rolling(21).std().shift()"
   ]
  },
  {
   "cell_type": "code",
   "execution_count": 14,
   "metadata": {},
   "outputs": [
    {
     "data": {
      "text/plain": [
       "<matplotlib.axes._subplots.AxesSubplot at 0x21caa8854f0>"
      ]
     },
     "execution_count": 14,
     "metadata": {},
     "output_type": "execute_result"
    },
    {
     "data": {
      "image/png": "[encoded data removed]",
      "text/plain": [
       "<Figure size 432x288 with 1 Axes>"
      ]
     },
     "metadata": {
      "needs_background": "light"
     },
     "output_type": "display_data"
    }
   ],
   "source": [
    "data_close['Volatility'].plot()"
   ]
  },
  {
   "cell_type": "code",
   "execution_count": 15,
   "metadata": {},
   "outputs": [],
   "source": [
    "data_close['actual_change'] = data_close['Close'] - data_close['Close'].shift(1)"
   ]
  },
  {
   "cell_type": "code",
   "execution_count": 16,
   "metadata": {},
   "outputs": [
    {
     "data": {
      "text/html": [
       "<div>\n",
       "<style scoped>\n",
       "    .dataframe tbody tr th:only-of-type {\n",
       "        vertical-align: middle;\n",
       "    }\n",
       "\n",
       "    .dataframe tbody tr th {\n",
       "        vertical-align: top;\n",
       "    }\n",
       "\n",
       "    .dataframe thead th {\n",
       "        text-align: right;\n",
       "    }\n",
       "</style>\n",
       "<table border=\"1\" class=\"dataframe\">\n",
       "  <thead>\n",
       "    <tr style=\"text-align: right;\">\n",
       "      <th></th>\n",
       "      <th>Close</th>\n",
       "      <th>MA_9</th>\n",
       "      <th>MA_21</th>\n",
       "      <th>change</th>\n",
       "      <th>Volatility</th>\n",
       "      <th>actual_change</th>\n",
       "    </tr>\n",
       "    <tr>\n",
       "      <th>Date</th>\n",
       "      <th></th>\n",
       "      <th></th>\n",
       "      <th></th>\n",
       "      <th></th>\n",
       "      <th></th>\n",
       "      <th></th>\n",
       "    </tr>\n",
       "  </thead>\n",
       "  <tbody>\n",
       "    <tr>\n",
       "      <th>2019-12-31</th>\n",
       "      <td>142.899994</td>\n",
       "      <td>NaN</td>\n",
       "      <td>NaN</td>\n",
       "      <td>NaN</td>\n",
       "      <td>NaN</td>\n",
       "      <td>NaN</td>\n",
       "    </tr>\n",
       "    <tr>\n",
       "      <th>2020-01-02</th>\n",
       "      <td>143.949997</td>\n",
       "      <td>NaN</td>\n",
       "      <td>NaN</td>\n",
       "      <td>0.007321</td>\n",
       "      <td>NaN</td>\n",
       "      <td>1.050003</td>\n",
       "    </tr>\n",
       "    <tr>\n",
       "      <th>2020-01-03</th>\n",
       "      <td>145.860001</td>\n",
       "      <td>NaN</td>\n",
       "      <td>NaN</td>\n",
       "      <td>0.013181</td>\n",
       "      <td>NaN</td>\n",
       "      <td>1.910004</td>\n",
       "    </tr>\n",
       "    <tr>\n",
       "      <th>2020-01-06</th>\n",
       "      <td>147.389999</td>\n",
       "      <td>NaN</td>\n",
       "      <td>NaN</td>\n",
       "      <td>0.010435</td>\n",
       "      <td>NaN</td>\n",
       "      <td>1.529999</td>\n",
       "    </tr>\n",
       "    <tr>\n",
       "      <th>2020-01-07</th>\n",
       "      <td>147.970001</td>\n",
       "      <td>NaN</td>\n",
       "      <td>NaN</td>\n",
       "      <td>0.003927</td>\n",
       "      <td>NaN</td>\n",
       "      <td>0.580002</td>\n",
       "    </tr>\n",
       "  </tbody>\n",
       "</table>\n",
       "</div>"
      ],
      "text/plain": [
       "                 Close  MA_9  MA_21    change  Volatility  actual_change\n",
       "Date                                                                    \n",
       "2019-12-31  142.899994   NaN    NaN       NaN         NaN            NaN\n",
       "2020-01-02  143.949997   NaN    NaN  0.007321         NaN       1.050003\n",
       "2020-01-03  145.860001   NaN    NaN  0.013181         NaN       1.910004\n",
       "2020-01-06  147.389999   NaN    NaN  0.010435         NaN       1.529999\n",
       "2020-01-07  147.970001   NaN    NaN  0.003927         NaN       0.580002"
      ]
     },
     "execution_count": 16,
     "metadata": {},
     "output_type": "execute_result"
    }
   ],
   "source": [
    "data_close.head()"
   ]
  },
  {
   "cell_type": "code",
   "execution_count": 17,
   "metadata": {},
   "outputs": [],
   "source": [
    "data_close['expected_change'] = data_close['Close'].shift(1) * data_close['Volatility']"
   ]
  },
  {
   "cell_type": "code",
   "execution_count": 18,
   "metadata": {},
   "outputs": [
    {
     "data": {
      "text/html": [
       "<div>\n",
       "<style scoped>\n",
       "    .dataframe tbody tr th:only-of-type {\n",
       "        vertical-align: middle;\n",
       "    }\n",
       "\n",
       "    .dataframe tbody tr th {\n",
       "        vertical-align: top;\n",
       "    }\n",
       "\n",
       "    .dataframe thead th {\n",
       "        text-align: right;\n",
       "    }\n",
       "</style>\n",
       "<table border=\"1\" class=\"dataframe\">\n",
       "  <thead>\n",
       "    <tr style=\"text-align: right;\">\n",
       "      <th></th>\n",
       "      <th>Close</th>\n",
       "      <th>MA_9</th>\n",
       "      <th>MA_21</th>\n",
       "      <th>change</th>\n",
       "      <th>Volatility</th>\n",
       "      <th>actual_change</th>\n",
       "      <th>expected_change</th>\n",
       "    </tr>\n",
       "    <tr>\n",
       "      <th>Date</th>\n",
       "      <th></th>\n",
       "      <th></th>\n",
       "      <th></th>\n",
       "      <th></th>\n",
       "      <th></th>\n",
       "      <th></th>\n",
       "      <th></th>\n",
       "    </tr>\n",
       "  </thead>\n",
       "  <tbody>\n",
       "    <tr>\n",
       "      <th>2019-12-31</th>\n",
       "      <td>142.899994</td>\n",
       "      <td>NaN</td>\n",
       "      <td>NaN</td>\n",
       "      <td>NaN</td>\n",
       "      <td>NaN</td>\n",
       "      <td>NaN</td>\n",
       "      <td>NaN</td>\n",
       "    </tr>\n",
       "    <tr>\n",
       "      <th>2020-01-02</th>\n",
       "      <td>143.949997</td>\n",
       "      <td>NaN</td>\n",
       "      <td>NaN</td>\n",
       "      <td>0.007321</td>\n",
       "      <td>NaN</td>\n",
       "      <td>1.050003</td>\n",
       "      <td>NaN</td>\n",
       "    </tr>\n",
       "    <tr>\n",
       "      <th>2020-01-03</th>\n",
       "      <td>145.860001</td>\n",
       "      <td>NaN</td>\n",
       "      <td>NaN</td>\n",
       "      <td>0.013181</td>\n",
       "      <td>NaN</td>\n",
       "      <td>1.910004</td>\n",
       "      <td>NaN</td>\n",
       "    </tr>\n",
       "    <tr>\n",
       "      <th>2020-01-06</th>\n",
       "      <td>147.389999</td>\n",
       "      <td>NaN</td>\n",
       "      <td>NaN</td>\n",
       "      <td>0.010435</td>\n",
       "      <td>NaN</td>\n",
       "      <td>1.529999</td>\n",
       "      <td>NaN</td>\n",
       "    </tr>\n",
       "    <tr>\n",
       "      <th>2020-01-07</th>\n",
       "      <td>147.970001</td>\n",
       "      <td>NaN</td>\n",
       "      <td>NaN</td>\n",
       "      <td>0.003927</td>\n",
       "      <td>NaN</td>\n",
       "      <td>0.580002</td>\n",
       "      <td>NaN</td>\n",
       "    </tr>\n",
       "    <tr>\n",
       "      <th>2020-01-08</th>\n",
       "      <td>146.860001</td>\n",
       "      <td>NaN</td>\n",
       "      <td>NaN</td>\n",
       "      <td>-0.007530</td>\n",
       "      <td>NaN</td>\n",
       "      <td>-1.110001</td>\n",
       "      <td>NaN</td>\n",
       "    </tr>\n",
       "    <tr>\n",
       "      <th>2020-01-09</th>\n",
       "      <td>146.029999</td>\n",
       "      <td>NaN</td>\n",
       "      <td>NaN</td>\n",
       "      <td>-0.005668</td>\n",
       "      <td>NaN</td>\n",
       "      <td>-0.830002</td>\n",
       "      <td>NaN</td>\n",
       "    </tr>\n",
       "    <tr>\n",
       "      <th>2020-01-10</th>\n",
       "      <td>146.910004</td>\n",
       "      <td>NaN</td>\n",
       "      <td>NaN</td>\n",
       "      <td>0.006008</td>\n",
       "      <td>NaN</td>\n",
       "      <td>0.880005</td>\n",
       "      <td>NaN</td>\n",
       "    </tr>\n",
       "    <tr>\n",
       "      <th>2020-01-13</th>\n",
       "      <td>145.820007</td>\n",
       "      <td>NaN</td>\n",
       "      <td>NaN</td>\n",
       "      <td>-0.007447</td>\n",
       "      <td>NaN</td>\n",
       "      <td>-1.089996</td>\n",
       "      <td>NaN</td>\n",
       "    </tr>\n",
       "    <tr>\n",
       "      <th>2020-01-14</th>\n",
       "      <td>145.690002</td>\n",
       "      <td>145.965556</td>\n",
       "      <td>NaN</td>\n",
       "      <td>-0.000892</td>\n",
       "      <td>NaN</td>\n",
       "      <td>-0.130005</td>\n",
       "      <td>NaN</td>\n",
       "    </tr>\n",
       "  </tbody>\n",
       "</table>\n",
       "</div>"
      ],
      "text/plain": [
       "                 Close        MA_9  MA_21    change  Volatility  \\\n",
       "Date                                                              \n",
       "2019-12-31  142.899994         NaN    NaN       NaN         NaN   \n",
       "2020-01-02  143.949997         NaN    NaN  0.007321         NaN   \n",
       "2020-01-03  145.860001         NaN    NaN  0.013181         NaN   \n",
       "2020-01-06  147.389999         NaN    NaN  0.010435         NaN   \n",
       "2020-01-07  147.970001         NaN    NaN  0.003927         NaN   \n",
       "2020-01-08  146.860001         NaN    NaN -0.007530         NaN   \n",
       "2020-01-09  146.029999         NaN    NaN -0.005668         NaN   \n",
       "2020-01-10  146.910004         NaN    NaN  0.006008         NaN   \n",
       "2020-01-13  145.820007         NaN    NaN -0.007447         NaN   \n",
       "2020-01-14  145.690002  145.965556    NaN -0.000892         NaN   \n",
       "\n",
       "            actual_change  expected_change  \n",
       "Date                                        \n",
       "2019-12-31            NaN              NaN  \n",
       "2020-01-02       1.050003              NaN  \n",
       "2020-01-03       1.910004              NaN  \n",
       "2020-01-06       1.529999              NaN  \n",
       "2020-01-07       0.580002              NaN  \n",
       "2020-01-08      -1.110001              NaN  \n",
       "2020-01-09      -0.830002              NaN  \n",
       "2020-01-10       0.880005              NaN  \n",
       "2020-01-13      -1.089996              NaN  \n",
       "2020-01-14      -0.130005              NaN  "
      ]
     },
     "execution_count": 18,
     "metadata": {},
     "output_type": "execute_result"
    }
   ],
   "source": [
    "data_close.head(10)"
   ]
  },
  {
   "cell_type": "code",
   "execution_count": 19,
   "metadata": {},
   "outputs": [],
   "source": [
    "data_close = data_close.iloc[1:]"
   ]
  },
  {
   "cell_type": "code",
   "execution_count": 20,
   "metadata": {},
   "outputs": [],
   "source": [
    "data_close['Magnitude'] = data_close['actual_change'] / data_close['expected_change']"
   ]
  },
  {
   "cell_type": "code",
   "execution_count": 21,
   "metadata": {},
   "outputs": [
    {
     "name": "stderr",
     "output_type": "stream",
     "text": [
      "C:\\Users\\Taufiq\\anaconda64\\lib\\site-packages\\numpy\\lib\\histograms.py:839: RuntimeWarning: invalid value encountered in greater_equal\n",
      "  keep = (tmp_a >= first_edge)\n",
      "C:\\Users\\Taufiq\\anaconda64\\lib\\site-packages\\numpy\\lib\\histograms.py:840: RuntimeWarning: invalid value encountered in less_equal\n",
      "  keep &= (tmp_a <= last_edge)\n"
     ]
    },
    {
     "data": {
      "text/plain": [
       "(array([ 1.,  2.,  0.,  8., 11., 41., 81., 44.,  8.,  6.]),\n",
       " array([-5.83553107, -4.9069169 , -3.97830274, -3.04968857, -2.12107441,\n",
       "        -1.19246024, -0.26384608,  0.66476808,  1.59338225,  2.52199641,\n",
       "         3.45061058]),\n",
       " <a list of 10 Patch objects>)"
      ]
     },
     "execution_count": 21,
     "metadata": {},
     "output_type": "execute_result"
    },
    {
     "data": {
      "image/png": "[encoded data removed]",
      "text/plain": [
       "<Figure size 432x288 with 1 Axes>"
      ]
     },
     "metadata": {
      "needs_background": "light"
     },
     "output_type": "display_data"
    }
   ],
   "source": [
    "plt.hist(data_close['Magnitude'])"
   ]
  },
  {
   "cell_type": "code",
   "execution_count": 22,
   "metadata": {},
   "outputs": [
    {
     "data": {
      "text/plain": [
       "(array([ 1.,  0.,  0.,  0.,  0.,  2.,  0.,  0.,  0.,  0.,  0.,  0.,  0.,\n",
       "         0.,  0.,  0.,  1.,  3.,  0.,  4.,  2.,  2.,  3.,  2.,  2.,  5.,\n",
       "         2.,  5., 13., 16., 12., 14., 20., 17., 18., 11., 12., 12.,  6.,\n",
       "         3.,  3.,  0.,  1.,  2.,  2.,  1.,  1.,  3.,  0.,  1.]),\n",
       " array([-5.83553107, -5.64980823, -5.4640854 , -5.27836257, -5.09263973,\n",
       "        -4.9069169 , -4.72119407, -4.53547124, -4.3497484 , -4.16402557,\n",
       "        -3.97830274, -3.7925799 , -3.60685707, -3.42113424, -3.23541141,\n",
       "        -3.04968857, -2.86396574, -2.67824291, -2.49252007, -2.30679724,\n",
       "        -2.12107441, -1.93535158, -1.74962874, -1.56390591, -1.37818308,\n",
       "        -1.19246024, -1.00673741, -0.82101458, -0.63529175, -0.44956891,\n",
       "        -0.26384608, -0.07812325,  0.10759959,  0.29332242,  0.47904525,\n",
       "         0.66476808,  0.85049092,  1.03621375,  1.22193658,  1.40765942,\n",
       "         1.59338225,  1.77910508,  1.96482791,  2.15055075,  2.33627358,\n",
       "         2.52199641,  2.70771925,  2.89344208,  3.07916491,  3.26488774,\n",
       "         3.45061058]),\n",
       " <a list of 50 Patch objects>)"
      ]
     },
     "execution_count": 22,
     "metadata": {},
     "output_type": "execute_result"
    },
    {
     "data": {
      "image/png": "[encoded data removed]",
      "text/plain": [
       "<Figure size 432x288 with 1 Axes>"
      ]
     },
     "metadata": {
      "needs_background": "light"
     },
     "output_type": "display_data"
    }
   ],
   "source": [
    "plt.hist(data_close['Magnitude'],bins=50)"
   ]
  },
  {
   "cell_type": "code",
   "execution_count": 23,
   "metadata": {},
   "outputs": [],
   "source": [
    "data_close['abs_magnitude'] = np.abs(data_close['Magnitude'])"
   ]
  },
  {
   "cell_type": "code",
   "execution_count": 24,
   "metadata": {},
   "outputs": [
    {
     "data": {
      "text/html": [
       "<div>\n",
       "<style scoped>\n",
       "    .dataframe tbody tr th:only-of-type {\n",
       "        vertical-align: middle;\n",
       "    }\n",
       "\n",
       "    .dataframe tbody tr th {\n",
       "        vertical-align: top;\n",
       "    }\n",
       "\n",
       "    .dataframe thead th {\n",
       "        text-align: right;\n",
       "    }\n",
       "</style>\n",
       "<table border=\"1\" class=\"dataframe\">\n",
       "  <thead>\n",
       "    <tr style=\"text-align: right;\">\n",
       "      <th></th>\n",
       "      <th>Close</th>\n",
       "      <th>MA_9</th>\n",
       "      <th>MA_21</th>\n",
       "      <th>change</th>\n",
       "      <th>Volatility</th>\n",
       "      <th>actual_change</th>\n",
       "      <th>expected_change</th>\n",
       "      <th>Magnitude</th>\n",
       "      <th>abs_magnitude</th>\n",
       "    </tr>\n",
       "    <tr>\n",
       "      <th>Date</th>\n",
       "      <th></th>\n",
       "      <th></th>\n",
       "      <th></th>\n",
       "      <th></th>\n",
       "      <th></th>\n",
       "      <th></th>\n",
       "      <th></th>\n",
       "      <th></th>\n",
       "      <th></th>\n",
       "    </tr>\n",
       "  </thead>\n",
       "  <tbody>\n",
       "    <tr>\n",
       "      <th>2020-01-02</th>\n",
       "      <td>143.949997</td>\n",
       "      <td>NaN</td>\n",
       "      <td>NaN</td>\n",
       "      <td>0.007321</td>\n",
       "      <td>NaN</td>\n",
       "      <td>1.050003</td>\n",
       "      <td>NaN</td>\n",
       "      <td>NaN</td>\n",
       "      <td>NaN</td>\n",
       "    </tr>\n",
       "    <tr>\n",
       "      <th>2020-01-03</th>\n",
       "      <td>145.860001</td>\n",
       "      <td>NaN</td>\n",
       "      <td>NaN</td>\n",
       "      <td>0.013181</td>\n",
       "      <td>NaN</td>\n",
       "      <td>1.910004</td>\n",
       "      <td>NaN</td>\n",
       "      <td>NaN</td>\n",
       "      <td>NaN</td>\n",
       "    </tr>\n",
       "    <tr>\n",
       "      <th>2020-01-06</th>\n",
       "      <td>147.389999</td>\n",
       "      <td>NaN</td>\n",
       "      <td>NaN</td>\n",
       "      <td>0.010435</td>\n",
       "      <td>NaN</td>\n",
       "      <td>1.529999</td>\n",
       "      <td>NaN</td>\n",
       "      <td>NaN</td>\n",
       "      <td>NaN</td>\n",
       "    </tr>\n",
       "    <tr>\n",
       "      <th>2020-01-07</th>\n",
       "      <td>147.970001</td>\n",
       "      <td>NaN</td>\n",
       "      <td>NaN</td>\n",
       "      <td>0.003927</td>\n",
       "      <td>NaN</td>\n",
       "      <td>0.580002</td>\n",
       "      <td>NaN</td>\n",
       "      <td>NaN</td>\n",
       "      <td>NaN</td>\n",
       "    </tr>\n",
       "    <tr>\n",
       "      <th>2020-01-08</th>\n",
       "      <td>146.860001</td>\n",
       "      <td>NaN</td>\n",
       "      <td>NaN</td>\n",
       "      <td>-0.007530</td>\n",
       "      <td>NaN</td>\n",
       "      <td>-1.110001</td>\n",
       "      <td>NaN</td>\n",
       "      <td>NaN</td>\n",
       "      <td>NaN</td>\n",
       "    </tr>\n",
       "  </tbody>\n",
       "</table>\n",
       "</div>"
      ],
      "text/plain": [
       "                 Close  MA_9  MA_21    change  Volatility  actual_change  \\\n",
       "Date                                                                       \n",
       "2020-01-02  143.949997   NaN    NaN  0.007321         NaN       1.050003   \n",
       "2020-01-03  145.860001   NaN    NaN  0.013181         NaN       1.910004   \n",
       "2020-01-06  147.389999   NaN    NaN  0.010435         NaN       1.529999   \n",
       "2020-01-07  147.970001   NaN    NaN  0.003927         NaN       0.580002   \n",
       "2020-01-08  146.860001   NaN    NaN -0.007530         NaN      -1.110001   \n",
       "\n",
       "            expected_change  Magnitude  abs_magnitude  \n",
       "Date                                                   \n",
       "2020-01-02              NaN        NaN            NaN  \n",
       "2020-01-03              NaN        NaN            NaN  \n",
       "2020-01-06              NaN        NaN            NaN  \n",
       "2020-01-07              NaN        NaN            NaN  \n",
       "2020-01-08              NaN        NaN            NaN  "
      ]
     },
     "execution_count": 24,
     "metadata": {},
     "output_type": "execute_result"
    }
   ],
   "source": [
    "data_close.head()"
   ]
  },
  {
   "cell_type": "code",
   "execution_count": 25,
   "metadata": {},
   "outputs": [
    {
     "data": {
      "text/plain": [
       "<matplotlib.collections.PathCollection at 0x21caaa87be0>"
      ]
     },
     "execution_count": 25,
     "metadata": {},
     "output_type": "execute_result"
    },
    {
     "data": {
      "image/png": "[encoded data removed]",
      "text/plain": [
       "<Figure size 432x288 with 1 Axes>"
      ]
     },
     "metadata": {
      "needs_background": "light"
     },
     "output_type": "display_data"
    }
   ],
   "source": [
    "plt.scatter(data_close['actual_change'] , data_close['abs_magnitude'])"
   ]
  },
  {
   "cell_type": "code",
   "execution_count": null,
   "metadata": {},
   "outputs": [],
   "source": []
  },
  {
   "cell_type": "code",
   "execution_count": null,
   "metadata": {},
   "outputs": [],
   "source": []
  }
 ],
 "metadata": {
  "kernelspec": {
   "display_name": "Python 3",
   "language": "python",
   "name": "python3"
  },
  "language_info": {
   "codemirror_mode": {
    "name": "ipython",
    "version": 3
   },
   "file_extension": ".py",
   "mimetype": "text/x-python",
   "name": "python",
   "nbconvert_exporter": "python",
   "pygments_lexer": "ipython3",
   "version": "3.8.3"
  }
 },
 "nbformat": 4,
 "nbformat_minor": 4
}
